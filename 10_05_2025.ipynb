{
 "cells": [
  {
   "cell_type": "markdown",
   "id": "fe7b6253",
   "metadata": {},
   "source": [
    "Time Module\n"
   ]
  },
  {
   "cell_type": "markdown",
   "id": "b78d623d",
   "metadata": {},
   "source": [
    "\"2025-10-05\" # YYYY-DD-MM\n",
    "\"08:14 PM IST\"\n",
    "\"09:47 AM CST\"\n",
    "\"10:47 AM EST\"\n",
    "\"UTC\" # Universal Coordinated Time  ---> Jan 1, 1970\n",
    "\"2PM\" # -->  12 hours format\n",
    "\"14\"  # -->  24 hours format"
   ]
  },
  {
   "cell_type": "code",
   "execution_count": 27,
   "id": "67d521a5",
   "metadata": {},
   "outputs": [],
   "source": [
    "import time"
   ]
  },
  {
   "cell_type": "code",
   "execution_count": 28,
   "id": "ccf4f322",
   "metadata": {},
   "outputs": [
    {
     "name": "stdout",
     "output_type": "stream",
     "text": [
      "1746889561.1019864\n"
     ]
    }
   ],
   "source": [
    "print(time.time())"
   ]
  },
  {
   "cell_type": "code",
   "execution_count": 29,
   "id": "14b777db",
   "metadata": {},
   "outputs": [
    {
     "name": "stdout",
     "output_type": "stream",
     "text": [
      "Sat May 10 20:36:02 2025\n"
     ]
    }
   ],
   "source": [
    "print(time.ctime())"
   ]
  },
  {
   "cell_type": "code",
   "execution_count": 31,
   "id": "e4418d0e",
   "metadata": {},
   "outputs": [
    {
     "name": "stdout",
     "output_type": "stream",
     "text": [
      "time.struct_time(tm_year=2025, tm_mon=5, tm_mday=10, tm_hour=20, tm_min=36, tm_sec=10, tm_wday=5, tm_yday=130, tm_isdst=0)\n",
      "<class 'time.struct_time'>\n"
     ]
    }
   ],
   "source": [
    "# tm_yday --> day of the year\n",
    "# tm_wday --> week day\n",
    "print(time.localtime())\n",
    "print(type(time.localtime()))\n",
    "\n",
    "time = time.localtime()"
   ]
  },
  {
   "cell_type": "code",
   "execution_count": 25,
   "id": "d924819e",
   "metadata": {},
   "outputs": [
    {
     "name": "stdout",
     "output_type": "stream",
     "text": [
      "20\n",
      "31\n",
      "0\n"
     ]
    }
   ],
   "source": [
    "print(time.tm_hour)\n",
    "print(time.tm_min)\n",
    "print(time.tm_isdst)"
   ]
  },
  {
   "cell_type": "markdown",
   "id": "b4ddef73",
   "metadata": {},
   "source": [
    "time.strftime(format,t)\n",
    "%M - minutes\n",
    "%m - month\n",
    "%d - date\n",
    "%Y - Year\n",
    "%H - Hour\n",
    "%S - Seconds"
   ]
  },
  {
   "cell_type": "code",
   "execution_count": 35,
   "id": "a15a3190",
   "metadata": {},
   "outputs": [
    {
     "name": "stdout",
     "output_type": "stream",
     "text": [
      "2025-05-10 20:42:33\n"
     ]
    }
   ],
   "source": [
    "import time\n",
    "print(time.strftime(\"%Y-%m-%d %H:%M:%S\",time.localtime()))"
   ]
  },
  {
   "cell_type": "markdown",
   "id": "ed2a05c9",
   "metadata": {},
   "source": [
    "Fstring"
   ]
  },
  {
   "cell_type": "code",
   "execution_count": 36,
   "id": "543eae94",
   "metadata": {},
   "outputs": [
    {
     "name": "stdout",
     "output_type": "stream",
     "text": [
      "Hello Thiru, How are you?\n"
     ]
    }
   ],
   "source": [
    "name = \"Thiru\"\n",
    "print(f\"Hello {name}, How are you?\")"
   ]
  },
  {
   "cell_type": "code",
   "execution_count": 37,
   "id": "04457e2d",
   "metadata": {},
   "outputs": [],
   "source": [
    "pi = 3.1415926535"
   ]
  },
  {
   "cell_type": "code",
   "execution_count": 41,
   "id": "f3ef96d8",
   "metadata": {},
   "outputs": [
    {
     "name": "stdout",
     "output_type": "stream",
     "text": [
      "The value of pi is : 3.14\n",
      "The value of pi is : 3.142\n"
     ]
    }
   ],
   "source": [
    "print(f\"The value of pi is : {pi:.2f}\")\n",
    "print(f\"The value of pi is : {pi :.3f}\")"
   ]
  },
  {
   "cell_type": "code",
   "execution_count": 42,
   "id": "714a46d2",
   "metadata": {},
   "outputs": [
    {
     "name": "stdout",
     "output_type": "stream",
     "text": [
      "The first person name is Thiru,second person name is Gnanam, third person name is Sugumar \n"
     ]
    }
   ],
   "source": [
    "name_1 = \"Thiru\"\n",
    "name_2 = \"Gnanam\"\n",
    "name_3 = \"Sugumar\"\n",
    "\n",
    "print(f\"The first person name is {name_1},second person name is {name_2}, third person name is {name_3} \")\n"
   ]
  },
  {
   "cell_type": "code",
   "execution_count": 47,
   "id": "cb641648",
   "metadata": {},
   "outputs": [
    {
     "name": "stdout",
     "output_type": "stream",
     "text": [
      "The first person name is Thiru,second person name is Gnanam, third person name is Sugumar\n"
     ]
    }
   ],
   "source": [
    "print(\"The first person name is {a},second person name is {b}, third person name is {c}\".format(a=\"Thiru\",b=\"Gnanam\",c=\"Sugumar\"))"
   ]
  },
  {
   "cell_type": "markdown",
   "id": "8a2a9809",
   "metadata": {},
   "source": [
    "Decorators"
   ]
  },
  {
   "cell_type": "code",
   "execution_count": 20,
   "id": "8f208168",
   "metadata": {},
   "outputs": [],
   "source": [
    "def research():\n",
    "    print(\"Start\")\n",
    "    time.sleep(5)\n",
    "    print(\"Complete\")\n"
   ]
  },
  {
   "cell_type": "code",
   "execution_count": 21,
   "id": "10703fc0",
   "metadata": {},
   "outputs": [
    {
     "name": "stdout",
     "output_type": "stream",
     "text": [
      "Start\n",
      "Complete\n"
     ]
    }
   ],
   "source": [
    "research()"
   ]
  },
  {
   "cell_type": "code",
   "execution_count": null,
   "id": "fb522aa0",
   "metadata": {},
   "outputs": [],
   "source": [
    "# Flow of Object as an argument\n",
    "\n",
    "class A:\n",
    "    def print_hello(self):\n",
    "        print(\"Hello\")\n",
    "\n",
    "def show_hello(obj):\n",
    "    obj.print_hello()\n",
    "\n"
   ]
  },
  {
   "cell_type": "code",
   "execution_count": 51,
   "id": "937f2b0d",
   "metadata": {},
   "outputs": [],
   "source": [
    "a = A()"
   ]
  },
  {
   "cell_type": "code",
   "execution_count": 52,
   "id": "23cb2ac4",
   "metadata": {},
   "outputs": [
    {
     "name": "stdout",
     "output_type": "stream",
     "text": [
      "Hello\n"
     ]
    }
   ],
   "source": [
    "show_hello(a)"
   ]
  },
  {
   "cell_type": "markdown",
   "id": "9b7de4f7",
   "metadata": {},
   "source": [
    "Decorator"
   ]
  },
  {
   "cell_type": "code",
   "execution_count": 17,
   "id": "847d41fb",
   "metadata": {},
   "outputs": [],
   "source": [
    "\n",
    "def time_it(func):\n",
    "    def wrapper():\n",
    "        t1 = time.time()\n",
    "        print(f\"Time start is :{t1}\")\n",
    "        func()\n",
    "        t2 = time.time()\n",
    "        print(f\"Time start is :{t2}\")\n",
    "        t = t2 - t1\n",
    "        print(f\"Time taken is {t} seconds\")\n",
    "    return wrapper\n",
    "\n"
   ]
  },
  {
   "cell_type": "code",
   "execution_count": 22,
   "id": "519b4868",
   "metadata": {},
   "outputs": [],
   "source": [
    "research = time_it(research)"
   ]
  },
  {
   "cell_type": "code",
   "execution_count": 23,
   "id": "87f551f4",
   "metadata": {},
   "outputs": [
    {
     "name": "stdout",
     "output_type": "stream",
     "text": [
      "Time start is :1746895446.848793\n",
      "Start\n",
      "Complete\n",
      "Time start is :1746895451.851235\n",
      "Time taken is 5.002441883087158 seconds\n"
     ]
    }
   ],
   "source": [
    "research()"
   ]
  },
  {
   "cell_type": "code",
   "execution_count": null,
   "id": "25bbd31b",
   "metadata": {},
   "outputs": [],
   "source": [
    "def logtime_it(func):\n",
    "    def wrapper(*args): # args is tuple datatype\n",
    "        t1 = time.time()\n",
    "        func(*args)\n",
    "        t2 = time.time()\n",
    "        t = t2 - t1\n",
    "        print(f\"Time taken is {t} seconds\")\n",
    "    return wrapper"
   ]
  },
  {
   "cell_type": "code",
   "execution_count": 25,
   "id": "feac5841",
   "metadata": {},
   "outputs": [],
   "source": [
    "@logtime_it\n",
    "def add(a,b,c):\n",
    "    print(a+b+c)\n",
    "    print(a+b+c)\n",
    "    time.sleep(2)\n",
    "    print(a+b+c)\n",
    "    print(a+b+c)"
   ]
  },
  {
   "cell_type": "code",
   "execution_count": 26,
   "id": "b41210ec",
   "metadata": {},
   "outputs": [
    {
     "name": "stdout",
     "output_type": "stream",
     "text": [
      "6\n",
      "6\n",
      "6\n",
      "6\n",
      "Time taken is 2.0016543865203857 seconds\n"
     ]
    }
   ],
   "source": [
    "add(1,2,3)"
   ]
  },
  {
   "cell_type": "code",
   "execution_count": 34,
   "id": "ae14efc2",
   "metadata": {},
   "outputs": [],
   "source": [
    "def log_ittimee(func):\n",
    "    def wrapper(*args, **kwargs):\n",
    "        t1 = time.time()\n",
    "        func(*args, **kwargs)\n",
    "        t2 = time.time()\n",
    "        t = t2 - t1\n",
    "        print(f\"Time taken is {t} seconds\")\n",
    "    return wrapper\n"
   ]
  },
  {
   "cell_type": "code",
   "execution_count": 35,
   "id": "36f6a2eb",
   "metadata": {},
   "outputs": [],
   "source": [
    "@log_ittimee\n",
    "def add(a,b,c,d):\n",
    "    print(a+b+c+d)\n",
    "    print(a+b+c+d)\n",
    "    time.sleep(2)\n",
    "    print(a+b+c+d)\n",
    "    print(a+b+c+d)"
   ]
  },
  {
   "cell_type": "code",
   "execution_count": 36,
   "id": "dddf156f",
   "metadata": {},
   "outputs": [
    {
     "name": "stdout",
     "output_type": "stream",
     "text": [
      "10\n",
      "10\n",
      "10\n",
      "10\n",
      "Time taken is 2.0020194053649902 seconds\n"
     ]
    }
   ],
   "source": [
    "add(1,2,3,d=4)"
   ]
  },
  {
   "cell_type": "code",
   "execution_count": 1,
   "id": "1e65625e",
   "metadata": {},
   "outputs": [
    {
     "name": "stdout",
     "output_type": "stream",
     "text": [
      "Wrapper executed before display\n",
      "Display function executed\n",
      "Wrapper executed after display\n"
     ]
    }
   ],
   "source": [
    "def decorator_function(original_function):\n",
    "    def wrapper():\n",
    "        print(\"Wrapper executed before\", original_function.__name__)\n",
    "        original_function()\n",
    "        print(\"Wrapper executed after\", original_function.__name__)\n",
    "    return wrapper\n",
    "\n",
    "@decorator_function\n",
    "def display():\n",
    "    print(\"Display function executed\")\n",
    "\n",
    "display()"
   ]
  },
  {
   "cell_type": "markdown",
   "id": "0fe78e14",
   "metadata": {},
   "source": [
    "ClassMethod"
   ]
  },
  {
   "cell_type": "code",
   "execution_count": 37,
   "id": "93807212",
   "metadata": {},
   "outputs": [],
   "source": [
    "class B:\n",
    "    a = 100 ## class variable\n",
    "\n",
    "    def __init__(self):\n",
    "        self.a = 100 # instance variable\n",
    "    def hello(self):\n",
    "        print(\"Hello World!\")\n"
   ]
  },
  {
   "cell_type": "code",
   "execution_count": 42,
   "id": "91c39f99",
   "metadata": {},
   "outputs": [
    {
     "ename": "TypeError",
     "evalue": "B.hello() missing 1 required positional argument: 'self'",
     "output_type": "error",
     "traceback": [
      "\u001b[1;31m---------------------------------------------------------------------------\u001b[0m",
      "\u001b[1;31mTypeError\u001b[0m                                 Traceback (most recent call last)",
      "Cell \u001b[1;32mIn[42], line 1\u001b[0m\n\u001b[1;32m----> 1\u001b[0m \u001b[43mB\u001b[49m\u001b[38;5;241;43m.\u001b[39;49m\u001b[43mhello\u001b[49m\u001b[43m(\u001b[49m\u001b[43m)\u001b[49m\n",
      "\u001b[1;31mTypeError\u001b[0m: B.hello() missing 1 required positional argument: 'self'"
     ]
    }
   ],
   "source": [
    "\n",
    "B.hello()"
   ]
  },
  {
   "cell_type": "code",
   "execution_count": 38,
   "id": "23fe4e64",
   "metadata": {},
   "outputs": [
    {
     "data": {
      "text/plain": [
       "100"
      ]
     },
     "execution_count": 38,
     "metadata": {},
     "output_type": "execute_result"
    }
   ],
   "source": [
    "B.a"
   ]
  },
  {
   "cell_type": "code",
   "execution_count": 43,
   "id": "2d783085",
   "metadata": {},
   "outputs": [],
   "source": [
    "class Memory:\n",
    "    total_memory = 128\n",
    "\n",
    "    @classmethod \n",
    "    def update_memory(cls, m):\n",
    "        cls.total_memory -= m\n"
   ]
  },
  {
   "cell_type": "code",
   "execution_count": 44,
   "id": "2f4fc4ce",
   "metadata": {},
   "outputs": [
    {
     "data": {
      "text/plain": [
       "128"
      ]
     },
     "execution_count": 44,
     "metadata": {},
     "output_type": "execute_result"
    }
   ],
   "source": [
    "Memory.total_memory"
   ]
  },
  {
   "cell_type": "code",
   "execution_count": 45,
   "id": "edf30299",
   "metadata": {},
   "outputs": [],
   "source": [
    "Memory.update_memory(100)"
   ]
  },
  {
   "cell_type": "code",
   "execution_count": 46,
   "id": "1d14432f",
   "metadata": {},
   "outputs": [
    {
     "data": {
      "text/plain": [
       "28"
      ]
     },
     "execution_count": 46,
     "metadata": {},
     "output_type": "execute_result"
    }
   ],
   "source": [
    "Memory.total_memory"
   ]
  },
  {
   "cell_type": "code",
   "execution_count": 57,
   "id": "b9284e8b",
   "metadata": {},
   "outputs": [],
   "source": [
    "# Alternate Constructor\n",
    "\n",
    "class DummyA:\n",
    "    def __init__(self,name,age):\n",
    "        self.name = name\n",
    "        self.age = age\n",
    "    \n",
    "    @classmethod\n",
    "    def from_fullname(cls,name):\n",
    "        name, age = name.split()\n",
    "        return cls(name,age)\n",
    "    \n",
    "    def print_data(self):\n",
    "        print(self.name)\n",
    "        print(self.age)\n",
    "\n"
   ]
  },
  {
   "cell_type": "code",
   "execution_count": 59,
   "id": "e55b9349",
   "metadata": {},
   "outputs": [],
   "source": [
    "obj_class_method = DummyA.from_fullname(\"Thiru 42\")"
   ]
  },
  {
   "cell_type": "code",
   "execution_count": 60,
   "id": "63fb0f04",
   "metadata": {},
   "outputs": [
    {
     "name": "stdout",
     "output_type": "stream",
     "text": [
      "Thiru\n",
      "42\n"
     ]
    }
   ],
   "source": [
    "obj_class_method.print_data()\n"
   ]
  },
  {
   "cell_type": "markdown",
   "id": "c19283df",
   "metadata": {},
   "source": [
    "Static Methods"
   ]
  },
  {
   "cell_type": "code",
   "execution_count": null,
   "id": "dc52713e",
   "metadata": {},
   "outputs": [],
   "source": [
    "## These methods does not depends on self or cls\n",
    "\n",
    "class Calc:\n",
    "    \n",
    "    @staticmethod # Its not required to create an object.\n",
    "    def add(a,b):\n",
    "        print(a + b)\n",
    "\n",
    "    @staticmethod\n",
    "    def multiply(a,b):\n",
    "        print(a * b)\n",
    "\n",
    "    def all(self,a,b):\n",
    "        print(a + b)\n",
    "        print(\"doing something\")\n",
    "        print(a * b)"
   ]
  },
  {
   "cell_type": "code",
   "execution_count": null,
   "id": "21049fb0",
   "metadata": {},
   "outputs": [
    {
     "name": "stdout",
     "output_type": "stream",
     "text": [
      "3\n"
     ]
    }
   ],
   "source": [
    "Calc.add(1,2) # Without creating object we can invoke Class inside methods"
   ]
  },
  {
   "cell_type": "code",
   "execution_count": 65,
   "id": "5251898c",
   "metadata": {},
   "outputs": [
    {
     "name": "stdout",
     "output_type": "stream",
     "text": [
      "7\n",
      "doing something\n",
      "10\n"
     ]
    }
   ],
   "source": [
    "c = Calc()\n",
    "c.all(2,5)"
   ]
  },
  {
   "cell_type": "code",
   "execution_count": 66,
   "id": "9c99a29c",
   "metadata": {},
   "outputs": [
    {
     "name": "stdout",
     "output_type": "stream",
     "text": [
      "3\n"
     ]
    }
   ],
   "source": [
    "c.add(1,2)"
   ]
  }
 ],
 "metadata": {
  "kernelspec": {
   "display_name": "Python 3",
   "language": "python",
   "name": "python3"
  },
  "language_info": {
   "codemirror_mode": {
    "name": "ipython",
    "version": 3
   },
   "file_extension": ".py",
   "mimetype": "text/x-python",
   "name": "python",
   "nbconvert_exporter": "python",
   "pygments_lexer": "ipython3",
   "version": "3.12.0"
  }
 },
 "nbformat": 4,
 "nbformat_minor": 5
}
