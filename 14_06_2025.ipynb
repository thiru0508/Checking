{
 "cells": [
  {
   "cell_type": "code",
   "execution_count": 12,
   "id": "59a5939a",
   "metadata": {},
   "outputs": [
    {
     "name": "stdout",
     "output_type": "stream",
     "text": [
      "     Name        Email\n",
      "0   Thiru  t@gmail.com\n",
      "1  Gnanam  g@gmail.com\n",
      "\n",
      "    Name  Age\n",
      "0  Alice   25\n",
      "1    Bob   30\n"
     ]
    }
   ],
   "source": [
    "\n",
    "import pandas as pd\n",
    "\n",
    "data1 = {\"Name\": [\"Alice\", \"Bob\"], \"Age\": [25, 30]}\n",
    "data = {\n",
    "    \"Name\" : ['Thiru','Gnanam'\n",
    "              ],\n",
    "    \"Email\" :['t@gmail.com','g@gmail.com'\n",
    "\n",
    "    ]\n",
    "}\n",
    "#print(data)\n",
    "\n",
    "df = pd.DataFrame(data)\n",
    "print(df)\n",
    "df = pd.DataFrame(data1)\n",
    "print()\n",
    "print(df)\n",
    "\n"
   ]
  }
 ],
 "metadata": {
  "kernelspec": {
   "display_name": "Python 3",
   "language": "python",
   "name": "python3"
  },
  "language_info": {
   "codemirror_mode": {
    "name": "ipython",
    "version": 3
   },
   "file_extension": ".py",
   "mimetype": "text/x-python",
   "name": "python",
   "nbconvert_exporter": "python",
   "pygments_lexer": "ipython3",
   "version": "3.12.0"
  }
 },
 "nbformat": 4,
 "nbformat_minor": 5
}
